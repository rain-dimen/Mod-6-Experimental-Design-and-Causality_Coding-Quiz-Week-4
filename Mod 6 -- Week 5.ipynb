{
 "cells": [
  {
   "cell_type": "markdown",
   "id": "774e9d78-4fb4-4f16-bcbe-85ed80fc9044",
   "metadata": {},
   "source": [
    "# Instrumental Variables and Regression Discontinuity"
   ]
  },
  {
   "cell_type": "code",
   "execution_count": 2,
   "id": "d885d49f-2794-4909-8138-5ebbc6859631",
   "metadata": {},
   "outputs": [],
   "source": [
    "import numpy as np\n",
    "import pandas as pd\n",
    "import scipy\n",
    "import matplotlib.pyplot as plt\n",
    "import statsmodels.formula.api as smf\n",
    "import statsmodels.api as sm"
   ]
  },
  {
   "cell_type": "markdown",
   "id": "7d5cd39a-7239-4256-81a9-e1f9abbb7b48",
   "metadata": {},
   "source": [
    "# Instrumental Variables"
   ]
  },
  {
   "cell_type": "code",
   "execution_count": 3,
   "id": "be4bf241-6ef9-4973-80ec-679cfee49184",
   "metadata": {},
   "outputs": [],
   "source": [
    "# Z - instrument\n",
    "# W1 - confounder\n",
    "# W2 - confounder\n",
    "# X - treatment\n",
    "# Y - outcome"
   ]
  },
  {
   "cell_type": "code",
   "execution_count": 8,
   "id": "968e2b5f-12e5-4793-90d3-838eff4fe1d9",
   "metadata": {},
   "outputs": [],
   "source": [
    "num = 100000\n",
    "np.random.seed(0)\n",
    "Z = np.random.binomial(1, 0.3, (num,))\n",
    "W1 = np.random.normal(0, 1, (num,))\n",
    "W2 = np.random.normal(0, 1, (num,))\n",
    "epsilon_X = np.random.normal(0, 1, (num,))\n",
    "X = 2 * Z + W1 - W2 + epsilon_X\n",
    "epsilon_Y = np.random.normal(0, 1, (num,))\n",
    "Y = 3.2 * X - 1.7 * W1 + W2 + X * W1 + epsilon_Y"
   ]
  },
  {
   "cell_type": "code",
   "execution_count": 11,
   "id": "c0828ce6-0fb6-4a3b-9567-2657fe91147b",
   "metadata": {},
   "outputs": [
    {
     "data": {
      "text/plain": [
       "const    1.000626\n",
       "X        2.521248\n",
       "Z        1.347020\n",
       "dtype: float64"
      ]
     },
     "execution_count": 11,
     "metadata": {},
     "output_type": "execute_result"
    }
   ],
   "source": [
    "test_df = pd.DataFrame({\"X\": X, \"Z\": Z})\n",
    "results = sm.OLS(Y, sm.add_constant(test_df)).fit()\n",
    "results.params"
   ]
  },
  {
   "cell_type": "code",
   "execution_count": 18,
   "id": "6bb2d3eb-0a75-4f39-831d-40b161444fd0",
   "metadata": {},
   "outputs": [],
   "source": [
    "num = 100000\n",
    "np.random.seed(0)\n",
    "Z = np.random.binomial(1, 0.3, (num,))\n",
    "W1 = np.random.normal(0, 1, (num,))\n",
    "W2 = np.random.normal(0, 1, (num,))\n",
    "epsilon_X = np.random.normal(0, 1, (num,))\n",
    "X = 2 * Z + W1 - W2 + epsilon_X\n",
    "epsilon_Y = np.random.normal(0, 1, (num,))\n",
    "Y = 3.2 * X - 1.7 * W1 + W2 + X * W1 + epsilon_Y # true effect is 3.2\n",
    "df = pd.DataFrame({\"X\": X, \"Y\": Y, \"Z\": Z, \"W1\": W1, \"W2\": W2})"
   ]
  },
  {
   "cell_type": "code",
   "execution_count": 22,
   "id": "3f169886-e8d0-4dea-ab6f-60ab7fb9db12",
   "metadata": {},
   "outputs": [
    {
     "data": {
      "text/plain": [
       "const    0.007268\n",
       "X        3.199576\n",
       "Z       -0.015148\n",
       "W1      -1.697495\n",
       "W2       0.993987\n",
       "X_W1     1.001056\n",
       "dtype: float64"
      ]
     },
     "execution_count": 22,
     "metadata": {},
     "output_type": "execute_result"
    }
   ],
   "source": [
    "df_with_interaction = pd.DataFrame({\"X\": X, \"Y\": Y, \"Z\": Z, \"W1\": W1, \"W2\": W2, \"X_W1\": X * W1})\n",
    "results = sm.OLS(Y, sm.add_constant(df_with_interaction.drop(columns = [\"Y\"]))).fit()\n",
    "results.params"
   ]
  },
  {
   "cell_type": "code",
   "execution_count": 12,
   "id": "bf6f2261-8cd4-4be6-9125-a2bef4c209f6",
   "metadata": {},
   "outputs": [
    {
     "ename": "NameError",
     "evalue": "name 'df' is not defined",
     "output_type": "error",
     "traceback": [
      "\u001b[0;31m---------------------------------------------------------------------------\u001b[0m",
      "\u001b[0;31mNameError\u001b[0m                                 Traceback (most recent call last)",
      "Cell \u001b[0;32mIn[12], line 1\u001b[0m\n\u001b[0;32m----> 1\u001b[0m df_bin \u001b[38;5;241m=\u001b[39m \u001b[43mdf\u001b[49m\u001b[38;5;241m.\u001b[39mcopy() \u001b[38;5;66;03m# df[(df.W1 > 0.4) & (df.W1 < 0.6) & (df.W2 > -0.3) & (df.W2 < -0.1)]\u001b[39;00m\n",
      "\u001b[0;31mNameError\u001b[0m: name 'df' is not defined"
     ]
    }
   ],
   "source": [
    "df_bin = df.copy() # df[(df.W1 > 0.4) & (df.W1 < 0.6) & (df.W2 > -0.3) & (df.W2 < -0.1)]"
   ]
  },
  {
   "cell_type": "code",
   "execution_count": 22,
   "id": "3c5db9f1-5ede-473d-8e61-ebc0d86852a8",
   "metadata": {},
   "outputs": [
    {
     "data": {
      "text/plain": [
       "3.1904479752541985"
      ]
     },
     "execution_count": 22,
     "metadata": {},
     "output_type": "execute_result"
    }
   ],
   "source": [
    "y_diff = df[df.Z == 1].Y.mean() - df[df.Z == 0].Y.mean()\n",
    "x_diff = df[df.Z == 1].X.mean() - df[df.Z == 0].X.mean()\n",
    "y_diff / x_diff"
   ]
  },
  {
   "cell_type": "code",
   "execution_count": 23,
   "id": "082f3a56-5e03-4b3d-a3ae-4c82a6399345",
   "metadata": {},
   "outputs": [
    {
     "data": {
      "text/plain": [
       "3.6661641514440033"
      ]
     },
     "execution_count": 23,
     "metadata": {},
     "output_type": "execute_result"
    }
   ],
   "source": [
    "df_bin = df[(df.W1 > 0.4) & (df.W1 < 0.6) & (df.W2 > -0.3) & (df.W2 < -0.1)]\n",
    "#df_bin = df.copy()\n",
    "(df_bin[df_bin.Z == 1].Y.mean() - df_bin[df_bin.Z == 0].Y.mean()) / (df_bin[df_bin.Z == 1].X.mean() - df_bin[df_bin.Z == 0].X.mean())"
   ]
  },
  {
   "cell_type": "code",
   "execution_count": 9,
   "id": "b4802fd9-48f4-493a-9624-cffcc661aa8c",
   "metadata": {},
   "outputs": [
    {
     "data": {
      "text/plain": [
       "3.1949660524467727"
      ]
     },
     "execution_count": 9,
     "metadata": {},
     "output_type": "execute_result"
    }
   ],
   "source": [
    "num = 100000\n",
    "np.random.seed(0)\n",
    "Z = np.random.binomial(1, 0.3, (num,))\n",
    "W1 = np.random.normal(0, 1, (num,))\n",
    "W2 = np.random.normal(0, 1, (num,))\n",
    "epsilon_X = np.random.normal(0, 1, (num,))\n",
    "X = 2 * Z + W1 - W2 + epsilon_X\n",
    "epsilon_Y = np.random.normal(0, 1, (num,))\n",
    "Y = 3.2 * X - 1.7 * W1 + W1 * X + epsilon_Y # true effect is 3.2\n",
    "df = pd.DataFrame({\"X\": X, \"Y\": Y, \"Z\": Z, \"W1\": W1, \"W2\": W2})\n",
    "\n",
    "# Y average at Z = 1 minus Z = 0\n",
    "Y_diff = df[df.Z == 1].Y.mean() - df[df.Z == 0].Y.mean()\n",
    "X_diff = df[df.Z == 1].X.mean() - df[df.Z == 0].X.mean()\n",
    "Y_diff / X_diff"
   ]
  },
  {
   "cell_type": "markdown",
   "id": "80b1e52a-cef8-41d2-912c-5c9fd1403bc1",
   "metadata": {},
   "source": [
    "### Does it work when Z influences Y directly?"
   ]
  },
  {
   "cell_type": "code",
   "execution_count": 24,
   "id": "d060b820-4d44-42dc-aef6-3168a7422024",
   "metadata": {},
   "outputs": [
    {
     "data": {
      "text/plain": [
       "2.197356441250059"
      ]
     },
     "execution_count": 24,
     "metadata": {},
     "output_type": "execute_result"
    }
   ],
   "source": [
    "Y = 3.2 * X - 1.7 * W1 - 2 * Z + epsilon_Y # true effect is 3.2\n",
    "df = pd.DataFrame({\"X\": X, \"Y\": Y, \"Z\": Z, \"W1\": W1, \"W2\": W2})\n",
    "\n",
    "# Y average at Z = 1 minus Z = 0\n",
    "Y_diff = df[df.Z == 1].Y.mean() - df[df.Z == 0].Y.mean()\n",
    "X_diff = df[df.Z == 1].X.mean() - df[df.Z == 0].X.mean()\n",
    "Y_diff / X_diff"
   ]
  },
  {
   "cell_type": "markdown",
   "id": "5b1ab923-1b10-48c9-a093-59d633280490",
   "metadata": {},
   "source": [
    "### Does it work when Z influences W?"
   ]
  },
  {
   "cell_type": "code",
   "execution_count": 11,
   "id": "cba1baba-986c-43d4-afb9-84bb0e59eb57",
   "metadata": {},
   "outputs": [
    {
     "data": {
      "text/plain": [
       "2.349474884470536"
      ]
     },
     "execution_count": 11,
     "metadata": {},
     "output_type": "execute_result"
    }
   ],
   "source": [
    "Z = np.random.binomial(1, 0.3, (num,))\n",
    "W1 = 2 * Z + np.random.normal(0, 1, (num,))\n",
    "W2 = np.random.normal(0, 1, (num,))\n",
    "epsilon_X = np.random.normal(0, 1, (num,))\n",
    "X = 2 * Z + W1 - W2 + epsilon_X\n",
    "epsilon_Y = np.random.normal(0, 1, (num,))\n",
    "Y = 3.2 * X - 1.7 * W1 + epsilon_Y # true effect is 3.2\n",
    "df = pd.DataFrame({\"X\": X, \"Y\": Y, \"Z\": Z, \"W1\": W1, \"W2\": W2})\n",
    "\n",
    "# Y average at Z = 1 minus Z = 0\n",
    "Y_diff = df[df.Z == 1].Y.mean() - df[df.Z == 0].Y.mean()\n",
    "X_diff = df[df.Z == 1].X.mean() - df[df.Z == 0].X.mean()\n",
    "Y_diff / X_diff"
   ]
  },
  {
   "cell_type": "markdown",
   "id": "d151b6d8-9f47-4e66-9ed8-c4355ffd67ba",
   "metadata": {},
   "source": [
    "### Regression Discontinuity"
   ]
  },
  {
   "cell_type": "code",
   "execution_count": 26,
   "id": "b9de56a0-7544-43c6-963b-6397849c1c05",
   "metadata": {},
   "outputs": [
    {
     "data": {
      "text/plain": [
       "(array([ 0.09762701,  0.43037873,  0.20552675, ...,  0.62026567,\n",
       "         0.10206456, -0.54848829]),\n",
       " array([1, 1, 1, ..., 1, 1, 0]))"
      ]
     },
     "execution_count": 26,
     "metadata": {},
     "output_type": "execute_result"
    }
   ],
   "source": [
    "np.random.seed(0)\n",
    "num = 100000\n",
    "X_running = np.random.uniform(-1, 1, num)\n",
    "X_above_cutoff = 1 * (X_running >= 0)\n",
    "epsilon_Y = np.random.normal(0, 1, num)\n",
    "Y = 2.8 * X_above_cutoff + 0.5 * X_running + epsilon_Y # true effect is 2.8"
   ]
  },
  {
   "cell_type": "code",
   "execution_count": 27,
   "id": "0e4432c7-5b21-4e7c-891a-e5496c0f9ad5",
   "metadata": {},
   "outputs": [
    {
     "name": "stdout",
     "output_type": "stream",
     "text": [
      "Intercept       0.018988\n",
      "running         0.516870\n",
      "above_cutoff    2.782920\n",
      "dtype: float64\n"
     ]
    }
   ],
   "source": [
    "np.random.seed(0)\n",
    "num = 100000\n",
    "# Note: X_above_cutoff and X_running are both the treatment, sort of.\n",
    "# But X_above_cutoff is the real treatment in that its coefficient is the effect.\n",
    "X_running = np.random.uniform(-1, 1, num)\n",
    "X_above_cutoff = 1 * (X_running >= 0)\n",
    "epsilon_Y = np.random.normal(0, 1, num)\n",
    "Y = 2.8 * X_above_cutoff + 0.5 * X_running + epsilon_Y # true effect is 2.8\n",
    "\n",
    "# Create DataFrame\n",
    "df = pd.DataFrame({'running': X_running, 'above_cutoff': X_above_cutoff, 'Y': Y})\n",
    "\n",
    "model = smf.ols('Y ~ running + above_cutoff', data=df).fit()\n",
    "print(model.params)"
   ]
  },
  {
   "cell_type": "markdown",
   "id": "8b94f6d3-cd98-4276-80c5-58371e84a89e",
   "metadata": {},
   "source": [
    "### What if there's a confounder?"
   ]
  },
  {
   "cell_type": "code",
   "execution_count": 28,
   "id": "56472ab8-d8a0-4e10-a638-492ba5cbdebc",
   "metadata": {},
   "outputs": [
    {
     "name": "stdout",
     "output_type": "stream",
     "text": [
      "Intercept       0.167738\n",
      "running        -0.190323\n",
      "above_cutoff    0.861740\n",
      "dtype: float64\n"
     ]
    }
   ],
   "source": [
    "np.random.seed(0)\n",
    "num = 1000000\n",
    "# Note: X_above_cutoff and X_running are both the treatment, sort of.\n",
    "# But X_above_cutoff is the real treatment in that its coefficient is the effect.\n",
    "W = np.random.uniform(-1, 1, num)\n",
    "X_running = np.random.uniform(-1, 1, num) + 2 * W\n",
    "X_above_cutoff = 1 * (X_running >= 0)\n",
    "Y = 1.2 * X_above_cutoff + 0.5 * X_running - 2 * W + np.random.normal(0, 1, num)  # true effect is 2.8\n",
    "\n",
    "# Create DataFrame\n",
    "df = pd.DataFrame({'running': X_running, 'above_cutoff': X_above_cutoff, 'W': W, 'Y': Y})\n",
    "\n",
    "model = smf.ols('Y ~ running + above_cutoff', data=df).fit()\n",
    "print(model.params)"
   ]
  },
  {
   "cell_type": "markdown",
   "id": "667c33e4-35ec-4176-94f5-e5de97530b07",
   "metadata": {},
   "source": [
    "### Solution: Just go slightly above and below the cutoff"
   ]
  },
  {
   "cell_type": "code",
   "execution_count": 29,
   "id": "77b36a7f-89f9-4c74-b7c4-7d717df3ffe9",
   "metadata": {},
   "outputs": [
    {
     "name": "stdout",
     "output_type": "stream",
     "text": [
      "Intercept       0.006807\n",
      "running        -0.393145\n",
      "above_cutoff    1.184976\n",
      "dtype: float64\n"
     ]
    }
   ],
   "source": [
    "np.random.seed(0)\n",
    "num = 10000000\n",
    "# Note: X_above_cutoff and X_running are both the treatment, sort of.\n",
    "# But X_above_cutoff is the real treatment in that its coefficient is the effect.\n",
    "W = np.random.uniform(-1, 1, num)\n",
    "X_running = np.random.uniform(-1, 1, num) + 2 * W\n",
    "X_above_cutoff = 1 * (X_running >= 0)\n",
    "Y = 1.2 * X_above_cutoff + 0.5 * X_running - 2 * W + np.random.normal(0, 1, num)  # true effect is 1.2\n",
    "\n",
    "# Create DataFrame\n",
    "df = pd.DataFrame({'running': X_running, 'above_cutoff': X_above_cutoff, 'Y': Y})\n",
    "\n",
    "df_limited = df[(df.running > -0.1) & (df.running < 0.1)]\n",
    "\n",
    "# Does not get running variable parameter right, but it still helps to control for it!\n",
    "model = smf.ols('Y ~ running + above_cutoff', data=df_limited).fit()\n",
    "print(model.params)"
   ]
  },
  {
   "cell_type": "code",
   "execution_count": 30,
   "id": "e99c137c-dc2a-4b87-bccc-bd4c2e42eb0e",
   "metadata": {},
   "outputs": [
    {
     "name": "stdout",
     "output_type": "stream",
     "text": [
      "Intercept       0.026439\n",
      "above_cutoff    1.145635\n",
      "dtype: float64\n"
     ]
    }
   ],
   "source": [
    "# Without controlling for running variable\n",
    "df2 = pd.DataFrame({'running': X_running, 'above_cutoff': X_above_cutoff, 'Y': Y})\n",
    "\n",
    "df_limited = df[(df.running > -0.1) & (df.running < 0.1)]\n",
    "\n",
    "model = smf.ols('Y ~ above_cutoff', data=df_limited).fit()\n",
    "print(model.params)"
   ]
  },
  {
   "cell_type": "code",
   "execution_count": 39,
   "id": "b25580d8-9596-4e92-b51a-0db0fe983acc",
   "metadata": {},
   "outputs": [
    {
     "data": {
      "text/plain": [
       "(array([ 1.,  2.,  7., 12., 14., 21., 16., 13.,  8.,  6.]),\n",
       " array([1.14104544, 1.1425829 , 1.14412036, 1.14565782, 1.14719528,\n",
       "        1.14873274, 1.15027019, 1.15180765, 1.15334511, 1.15488257,\n",
       "        1.15642003]),\n",
       " <BarContainer object of 10 artists>)"
      ]
     },
     "execution_count": 39,
     "metadata": {},
     "output_type": "execute_result"
    },
    {
     "data": {
      "image/png": "[encoded data removed]",
      "text/plain": [
       "<Figure size 640x480 with 1 Axes>"
      ]
     },
     "metadata": {},
     "output_type": "display_data"
    }
   ],
   "source": [
    "lst = list()\n",
    "for n in range(100):\n",
    "    num = 10000000\n",
    "    # Note: X_above_cutoff and X_running are both the treatment, sort of.\n",
    "    # But X_above_cutoff is the real treatment in that its coefficient is the effect.\n",
    "    W = np.random.uniform(-1, 1, num)\n",
    "    X_running = np.random.uniform(-1, 1, num) + 2 * W\n",
    "    X_above_cutoff = 1 * (X_running >= 0)\n",
    "    Y = 1.2 * X_above_cutoff + 0.5 * X_running - 2 * W + np.random.normal(0, 1, num)  # true effect is 1.2\n",
    "\n",
    "    df2 = pd.DataFrame({'running': X_running, 'above_cutoff': X_above_cutoff, 'Y': Y})\n",
    "    \n",
    "    df_limited2 = df2[(df2.running > -0.1) & (df2.running < 0.1)]\n",
    "    \n",
    "    model = smf.ols('Y ~ above_cutoff', data=df_limited2).fit()\n",
    "    lst.append(model.params.above_cutoff)\n",
    "plt.hist(lst)"
   ]
  },
  {
   "cell_type": "code",
   "execution_count": 19,
   "id": "fb1e7321-8b7b-4429-be3b-5e3038b87a44",
   "metadata": {},
   "outputs": [
    {
     "data": {
      "text/plain": [
       "(array([ 1.,  2.,  7., 12., 14., 21., 16., 13.,  8.,  6.]),\n",
       " array([1.14104544, 1.1425829 , 1.14412036, 1.14565782, 1.14719528,\n",
       "        1.14873274, 1.15027019, 1.15180765, 1.15334511, 1.15488257,\n",
       "        1.15642003]),\n",
       " <BarContainer object of 10 artists>)"
      ]
     },
     "execution_count": 19,
     "metadata": {},
     "output_type": "execute_result"
    },
    {
     "data": {
      "image/png": "[encoded data removed]",
      "text/plain": [
       "<Figure size 640x480 with 1 Axes>"
      ]
     },
     "metadata": {},
     "output_type": "display_data"
    }
   ],
   "source": [
    "plt.hist(lst)"
   ]
  },
  {
   "cell_type": "code",
   "execution_count": null,
   "id": "1c2b3d7a-0726-41a4-8473-b11207f43e07",
   "metadata": {},
   "outputs": [],
   "source": []
  }
 ],
 "metadata": {
  "kernelspec": {
   "display_name": "Python 3 (ipykernel)",
   "language": "python",
   "name": "python3"
  },
  "language_info": {
   "codemirror_mode": {
    "name": "ipython",
    "version": 3
   },
   "file_extension": ".py",
   "mimetype": "text/x-python",
   "name": "python",
   "nbconvert_exporter": "python",
   "pygments_lexer": "ipython3",
   "version": "3.12.7"
  }
 },
 "nbformat": 4,
 "nbformat_minor": 5
}
