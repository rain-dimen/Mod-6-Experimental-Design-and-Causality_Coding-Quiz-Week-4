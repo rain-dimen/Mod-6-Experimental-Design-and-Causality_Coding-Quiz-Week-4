{
 "cells": [
  {
   "cell_type": "markdown",
   "id": "774e9d78-4fb4-4f16-bcbe-85ed80fc9044",
   "metadata": {},
   "source": [
    "# Instrumental Variables and Regression Discontinuity"
   ]
  },
  {
   "cell_type": "code",
   "execution_count": 3,
   "id": "1809f3da",
   "metadata": {},
   "outputs": [
    {
     "name": "stdout",
     "output_type": "stream",
     "text": [
      "Collecting statsmodels\n",
      "  Downloading statsmodels-0.14.5-cp312-cp312-manylinux2014_x86_64.manylinux_2_17_x86_64.manylinux_2_28_x86_64.whl.metadata (9.5 kB)\n",
      "Requirement already satisfied: numpy<3,>=1.22.3 in /home/codespace/.local/lib/python3.12/site-packages (from statsmodels) (2.3.1)\n",
      "Requirement already satisfied: scipy!=1.9.2,>=1.8 in /home/codespace/.local/lib/python3.12/site-packages (from statsmodels) (1.16.0)\n",
      "Requirement already satisfied: pandas!=2.1.0,>=1.4 in /home/codespace/.local/lib/python3.12/site-packages (from statsmodels) (2.3.1)\n",
      "Collecting patsy>=0.5.6 (from statsmodels)\n",
      "  Downloading patsy-1.0.1-py2.py3-none-any.whl.metadata (3.3 kB)\n",
      "Requirement already satisfied: packaging>=21.3 in /home/codespace/.local/lib/python3.12/site-packages (from statsmodels) (25.0)\n",
      "Requirement already satisfied: python-dateutil>=2.8.2 in /home/codespace/.local/lib/python3.12/site-packages (from pandas!=2.1.0,>=1.4->statsmodels) (2.9.0.post0)\n",
      "Requirement already satisfied: pytz>=2020.1 in /home/codespace/.local/lib/python3.12/site-packages (from pandas!=2.1.0,>=1.4->statsmodels) (2025.2)\n",
      "Requirement already satisfied: tzdata>=2022.7 in /home/codespace/.local/lib/python3.12/site-packages (from pandas!=2.1.0,>=1.4->statsmodels) (2025.2)\n",
      "Requirement already satisfied: six>=1.5 in /home/codespace/.local/lib/python3.12/site-packages (from python-dateutil>=2.8.2->pandas!=2.1.0,>=1.4->statsmodels) (1.17.0)\n",
      "Downloading statsmodels-0.14.5-cp312-cp312-manylinux2014_x86_64.manylinux_2_17_x86_64.manylinux_2_28_x86_64.whl (10.4 MB)\n",
      "\u001b[2K   \u001b[90m━━━━━━━━━━━━━━━━━━━━━━━━━━━━━━━━━━━━━━━━\u001b[0m \u001b[32m10.4/10.4 MB\u001b[0m \u001b[31m40.7 MB/s\u001b[0m eta \u001b[36m0:00:00\u001b[0m:00:01\u001b[0m\n",
      "\u001b[?25hDownloading patsy-1.0.1-py2.py3-none-any.whl (232 kB)\n",
      "Installing collected packages: patsy, statsmodels\n",
      "\u001b[2K   \u001b[90m━━━━━━━━━━━━━━━━━━━━━━━━━━━━━━━━━━━━━━━━\u001b[0m \u001b[32m2/2\u001b[0m [statsmodels]\u001b[0m [statsmodels]\n",
      "\u001b[1A\u001b[2KSuccessfully installed patsy-1.0.1 statsmodels-0.14.5\n",
      "\n",
      "\u001b[1m[\u001b[0m\u001b[34;49mnotice\u001b[0m\u001b[1;39;49m]\u001b[0m\u001b[39;49m A new release of pip is available: \u001b[0m\u001b[31;49m25.1.1\u001b[0m\u001b[39;49m -> \u001b[0m\u001b[32;49m25.2\u001b[0m\n",
      "\u001b[1m[\u001b[0m\u001b[34;49mnotice\u001b[0m\u001b[1;39;49m]\u001b[0m\u001b[39;49m To update, run: \u001b[0m\u001b[32;49mpython3 -m pip install --upgrade pip\u001b[0m\n"
     ]
    }
   ],
   "source": [
    "!pip install statsmodels"
   ]
  },
  {
   "cell_type": "code",
   "execution_count": 4,
   "id": "d885d49f-2794-4909-8138-5ebbc6859631",
   "metadata": {},
   "outputs": [],
   "source": [
    "import numpy as np\n",
    "import pandas as pd\n",
    "import scipy\n",
    "import matplotlib.pyplot as plt\n",
    "import statsmodels.formula.api as smf\n",
    "import statsmodels.api as sm"
   ]
  },
  {
   "cell_type": "markdown",
   "id": "7d5cd39a-7239-4256-81a9-e1f9abbb7b48",
   "metadata": {},
   "source": [
    "# Instrumental Variables"
   ]
  },
  {
   "cell_type": "code",
   "execution_count": 3,
   "id": "be4bf241-6ef9-4973-80ec-679cfee49184",
   "metadata": {},
   "outputs": [],
   "source": [
    "# Z - instrument\n",
    "# W1 - confounder\n",
    "# W2 - confounder\n",
    "# X - treatment\n",
    "# Y - outcome"
   ]
  },
  {
   "cell_type": "code",
   "execution_count": 8,
   "id": "968e2b5f-12e5-4793-90d3-838eff4fe1d9",
   "metadata": {},
   "outputs": [],
   "source": [
    "num = 100000\n",
    "np.random.seed(0)\n",
    "Z = np.random.binomial(1, 0.3, (num,))\n",
    "W1 = np.random.normal(0, 1, (num,))\n",
    "W2 = np.random.normal(0, 1, (num,))\n",
    "epsilon_X = np.random.normal(0, 1, (num,))\n",
    "X = 2 * Z + W1 - W2 + epsilon_X\n",
    "epsilon_Y = np.random.normal(0, 1, (num,))\n",
    "Y = 3.2 * X - 1.7 * W1 + W2 + X * W1 + epsilon_Y"
   ]
  },
  {
   "cell_type": "code",
   "execution_count": 11,
   "id": "c0828ce6-0fb6-4a3b-9567-2657fe91147b",
   "metadata": {},
   "outputs": [
    {
     "data": {
      "text/plain": [
       "const    1.000626\n",
       "X        2.521248\n",
       "Z        1.347020\n",
       "dtype: float64"
      ]
     },
     "execution_count": 11,
     "metadata": {},
     "output_type": "execute_result"
    }
   ],
   "source": [
    "test_df = pd.DataFrame({\"X\": X, \"Z\": Z})\n",
    "results = sm.OLS(Y, sm.add_constant(test_df)).fit()\n",
    "results.params"
   ]
  },
  {
   "cell_type": "code",
   "execution_count": 18,
   "id": "6bb2d3eb-0a75-4f39-831d-40b161444fd0",
   "metadata": {},
   "outputs": [],
   "source": [
    "num = 100000\n",
    "np.random.seed(0)\n",
    "Z = np.random.binomial(1, 0.3, (num,))\n",
    "W1 = np.random.normal(0, 1, (num,))\n",
    "W2 = np.random.normal(0, 1, (num,))\n",
    "epsilon_X = np.random.normal(0, 1, (num,))\n",
    "X = 2 * Z + W1 - W2 + epsilon_X\n",
    "epsilon_Y = np.random.normal(0, 1, (num,))\n",
    "Y = 3.2 * X - 1.7 * W1 + W2 + X * W1 + epsilon_Y # true effect is 3.2\n",
    "df = pd.DataFrame({\"X\": X, \"Y\": Y, \"Z\": Z, \"W1\": W1, \"W2\": W2})"
   ]
  },
  {
   "cell_type": "code",
   "execution_count": 22,
   "id": "3f169886-e8d0-4dea-ab6f-60ab7fb9db12",
   "metadata": {},
   "outputs": [
    {
     "data": {
      "text/plain": [
       "const    0.007268\n",
       "X        3.199576\n",
       "Z       -0.015148\n",
       "W1      -1.697495\n",
       "W2       0.993987\n",
       "X_W1     1.001056\n",
       "dtype: float64"
      ]
     },
     "execution_count": 22,
     "metadata": {},
     "output_type": "execute_result"
    }
   ],
   "source": [
    "df_with_interaction = pd.DataFrame({\"X\": X, \"Y\": Y, \"Z\": Z, \"W1\": W1, \"W2\": W2, \"X_W1\": X * W1})\n",
    "results = sm.OLS(Y, sm.add_constant(df_with_interaction.drop(columns = [\"Y\"]))).fit()\n",
    "results.params"
   ]
  },
  {
   "cell_type": "code",
   "execution_count": 12,
   "id": "bf6f2261-8cd4-4be6-9125-a2bef4c209f6",
   "metadata": {},
   "outputs": [
    {
     "ename": "NameError",
     "evalue": "name 'df' is not defined",
     "output_type": "error",
     "traceback": [
      "\u001b[0;31m---------------------------------------------------------------------------\u001b[0m",
      "\u001b[0;31mNameError\u001b[0m                                 Traceback (most recent call last)",
      "Cell \u001b[0;32mIn[12], line 1\u001b[0m\n\u001b[0;32m----> 1\u001b[0m df_bin \u001b[38;5;241m=\u001b[39m \u001b[43mdf\u001b[49m\u001b[38;5;241m.\u001b[39mcopy() \u001b[38;5;66;03m# df[(df.W1 > 0.4) & (df.W1 < 0.6) & (df.W2 > -0.3) & (df.W2 < -0.1)]\u001b[39;00m\n",
      "\u001b[0;31mNameError\u001b[0m: name 'df' is not defined"
     ]
    }
   ],
   "source": [
    "df_bin = df.copy() # df[(df.W1 > 0.4) & (df.W1 < 0.6) & (df.W2 > -0.3) & (df.W2 < -0.1)]"
   ]
  },
  {
   "cell_type": "code",
   "execution_count": 22,
   "id": "3c5db9f1-5ede-473d-8e61-ebc0d86852a8",
   "metadata": {},
   "outputs": [
    {
     "data": {
      "text/plain": [
       "3.1904479752541985"
      ]
     },
     "execution_count": 22,
     "metadata": {},
     "output_type": "execute_result"
    }
   ],
   "source": [
    "y_diff = df[df.Z == 1].Y.mean() - df[df.Z == 0].Y.mean()\n",
    "x_diff = df[df.Z == 1].X.mean() - df[df.Z == 0].X.mean()\n",
    "y_diff / x_diff"
   ]
  },
  {
   "cell_type": "code",
   "execution_count": 23,
   "id": "082f3a56-5e03-4b3d-a3ae-4c82a6399345",
   "metadata": {},
   "outputs": [
    {
     "data": {
      "text/plain": [
       "3.6661641514440033"
      ]
     },
     "execution_count": 23,
     "metadata": {},
     "output_type": "execute_result"
    }
   ],
   "source": [
    "df_bin = df[(df.W1 > 0.4) & (df.W1 < 0.6) & (df.W2 > -0.3) & (df.W2 < -0.1)]\n",
    "#df_bin = df.copy()\n",
    "(df_bin[df_bin.Z == 1].Y.mean() - df_bin[df_bin.Z == 0].Y.mean()) / (df_bin[df_bin.Z == 1].X.mean() - df_bin[df_bin.Z == 0].X.mean())"
   ]
  },
  {
   "cell_type": "code",
   "execution_count": 9,
   "id": "b4802fd9-48f4-493a-9624-cffcc661aa8c",
   "metadata": {},
   "outputs": [
    {
     "data": {
      "text/plain": [
       "3.1949660524467727"
      ]
     },
     "execution_count": 9,
     "metadata": {},
     "output_type": "execute_result"
    }
   ],
   "source": [
    "num = 100000\n",
    "np.random.seed(0)\n",
    "Z = np.random.binomial(1, 0.3, (num,))\n",
    "W1 = np.random.normal(0, 1, (num,))\n",
    "W2 = np.random.normal(0, 1, (num,))\n",
    "epsilon_X = np.random.normal(0, 1, (num,))\n",
    "X = 2 * Z + W1 - W2 + epsilon_X\n",
    "epsilon_Y = np.random.normal(0, 1, (num,))\n",
    "Y = 3.2 * X - 1.7 * W1 + W1 * X + epsilon_Y # true effect is 3.2\n",
    "df = pd.DataFrame({\"X\": X, \"Y\": Y, \"Z\": Z, \"W1\": W1, \"W2\": W2})\n",
    "\n",
    "# Y average at Z = 1 minus Z = 0\n",
    "Y_diff = df[df.Z == 1].Y.mean() - df[df.Z == 0].Y.mean()\n",
    "X_diff = df[df.Z == 1].X.mean() - df[df.Z == 0].X.mean()\n",
    "Y_diff / X_diff"
   ]
  },
  {
   "cell_type": "markdown",
   "id": "80b1e52a-cef8-41d2-912c-5c9fd1403bc1",
   "metadata": {},
   "source": [
    "### Does it work when Z influences Y directly?"
   ]
  },
  {
   "cell_type": "code",
   "execution_count": 24,
   "id": "d060b820-4d44-42dc-aef6-3168a7422024",
   "metadata": {},
   "outputs": [
    {
     "data": {
      "text/plain": [
       "2.197356441250059"
      ]
     },
     "execution_count": 24,
     "metadata": {},
     "output_type": "execute_result"
    }
   ],
   "source": [
    "Y = 3.2 * X - 1.7 * W1 - 2 * Z + epsilon_Y # true effect is 3.2\n",
    "df = pd.DataFrame({\"X\": X, \"Y\": Y, \"Z\": Z, \"W1\": W1, \"W2\": W2})\n",
    "\n",
    "# Y average at Z = 1 minus Z = 0\n",
    "Y_diff = df[df.Z == 1].Y.mean() - df[df.Z == 0].Y.mean()\n",
    "X_diff = df[df.Z == 1].X.mean() - df[df.Z == 0].X.mean()\n",
    "Y_diff / X_diff"
   ]
  },
  {
   "cell_type": "markdown",
   "id": "5b1ab923-1b10-48c9-a093-59d633280490",
   "metadata": {},
   "source": [
    "### Does it work when Z influences W?"
   ]
  },
  {
   "cell_type": "code",
   "execution_count": 11,
   "id": "cba1baba-986c-43d4-afb9-84bb0e59eb57",
   "metadata": {},
   "outputs": [
    {
     "data": {
      "text/plain": [
       "2.349474884470536"
      ]
     },
     "execution_count": 11,
     "metadata": {},
     "output_type": "execute_result"
    }
   ],
   "source": [
    "Z = np.random.binomial(1, 0.3, (num,))\n",
    "W1 = 2 * Z + np.random.normal(0, 1, (num,))\n",
    "W2 = np.random.normal(0, 1, (num,))\n",
    "epsilon_X = np.random.normal(0, 1, (num,))\n",
    "X = 2 * Z + W1 - W2 + epsilon_X\n",
    "epsilon_Y = np.random.normal(0, 1, (num,))\n",
    "Y = 3.2 * X - 1.7 * W1 + epsilon_Y # true effect is 3.2\n",
    "df = pd.DataFrame({\"X\": X, \"Y\": Y, \"Z\": Z, \"W1\": W1, \"W2\": W2})\n",
    "\n",
    "# Y average at Z = 1 minus Z = 0\n",
    "Y_diff = df[df.Z == 1].Y.mean() - df[df.Z == 0].Y.mean()\n",
    "X_diff = df[df.Z == 1].X.mean() - df[df.Z == 0].X.mean()\n",
    "Y_diff / X_diff"
   ]
  },
  {
   "cell_type": "markdown",
   "id": "d151b6d8-9f47-4e66-9ed8-c4355ffd67ba",
   "metadata": {},
   "source": [
    "### Regression Discontinuity"
   ]
  },
  {
   "cell_type": "code",
   "execution_count": 26,
   "id": "b9de56a0-7544-43c6-963b-6397849c1c05",
   "metadata": {},
   "outputs": [
    {
     "data": {
      "text/plain": [
       "(array([ 0.09762701,  0.43037873,  0.20552675, ...,  0.62026567,\n",
       "         0.10206456, -0.54848829]),\n",
       " array([1, 1, 1, ..., 1, 1, 0]))"
      ]
     },
     "execution_count": 26,
     "metadata": {},
     "output_type": "execute_result"
    }
   ],
   "source": [
    "np.random.seed(0)\n",
    "num = 100000\n",
    "X_running = np.random.uniform(-1, 1, num)\n",
    "X_above_cutoff = 1 * (X_running >= 0)\n",
    "epsilon_Y = np.random.normal(0, 1, num)\n",
    "Y = 2.8 * X_above_cutoff + 0.5 * X_running + epsilon_Y # true effect is 2.8"
   ]
  },
  {
   "cell_type": "code",
   "execution_count": 27,
   "id": "0e4432c7-5b21-4e7c-891a-e5496c0f9ad5",
   "metadata": {},
   "outputs": [
    {
     "name": "stdout",
     "output_type": "stream",
     "text": [
      "Intercept       0.018988\n",
      "running         0.516870\n",
      "above_cutoff    2.782920\n",
      "dtype: float64\n"
     ]
    }
   ],
   "source": [
    "np.random.seed(0)\n",
    "num = 100000\n",
    "# Note: X_above_cutoff and X_running are both the treatment, sort of.\n",
    "# But X_above_cutoff is the real treatment in that its coefficient is the effect.\n",
    "X_running = np.random.uniform(-1, 1, num)\n",
    "X_above_cutoff = 1 * (X_running >= 0)\n",
    "epsilon_Y = np.random.normal(0, 1, num)\n",
    "Y = 2.8 * X_above_cutoff + 0.5 * X_running + epsilon_Y # true effect is 2.8\n",
    "\n",
    "# Create DataFrame\n",
    "df = pd.DataFrame({'running': X_running, 'above_cutoff': X_above_cutoff, 'Y': Y})\n",
    "\n",
    "model = smf.ols('Y ~ running + above_cutoff', data=df).fit()\n",
    "print(model.params)"
   ]
  },
  {
   "cell_type": "markdown",
   "id": "8b94f6d3-cd98-4276-80c5-58371e84a89e",
   "metadata": {},
   "source": [
    "### What if there's a confounder?"
   ]
  },
  {
   "cell_type": "code",
   "execution_count": 28,
   "id": "56472ab8-d8a0-4e10-a638-492ba5cbdebc",
   "metadata": {},
   "outputs": [
    {
     "name": "stdout",
     "output_type": "stream",
     "text": [
      "Intercept       0.167738\n",
      "running        -0.190323\n",
      "above_cutoff    0.861740\n",
      "dtype: float64\n"
     ]
    }
   ],
   "source": [
    "np.random.seed(0)\n",
    "num = 1000000\n",
    "# Note: X_above_cutoff and X_running are both the treatment, sort of.\n",
    "# But X_above_cutoff is the real treatment in that its coefficient is the effect.\n",
    "W = np.random.uniform(-1, 1, num)\n",
    "X_running = np.random.uniform(-1, 1, num) + 2 * W\n",
    "X_above_cutoff = 1 * (X_running >= 0)\n",
    "Y = 1.2 * X_above_cutoff + 0.5 * X_running - 2 * W + np.random.normal(0, 1, num)  # true effect is 2.8\n",
    "\n",
    "# Create DataFrame\n",
    "df = pd.DataFrame({'running': X_running, 'above_cutoff': X_above_cutoff, 'W': W, 'Y': Y})\n",
    "\n",
    "model = smf.ols('Y ~ running + above_cutoff', data=df).fit()\n",
    "print(model.params)"
   ]
  },
  {
   "cell_type": "markdown",
   "id": "667c33e4-35ec-4176-94f5-e5de97530b07",
   "metadata": {},
   "source": [
    "### Solution: Just go slightly above and below the cutoff"
   ]
  },
  {
   "cell_type": "code",
   "execution_count": 29,
   "id": "77b36a7f-89f9-4c74-b7c4-7d717df3ffe9",
   "metadata": {},
   "outputs": [
    {
     "name": "stdout",
     "output_type": "stream",
     "text": [
      "Intercept       0.006807\n",
      "running        -0.393145\n",
      "above_cutoff    1.184976\n",
      "dtype: float64\n"
     ]
    }
   ],
   "source": [
    "np.random.seed(0)\n",
    "num = 10000000\n",
    "# Note: X_above_cutoff and X_running are both the treatment, sort of.\n",
    "# But X_above_cutoff is the real treatment in that its coefficient is the effect.\n",
    "W = np.random.uniform(-1, 1, num)\n",
    "X_running = np.random.uniform(-1, 1, num) + 2 * W\n",
    "X_above_cutoff = 1 * (X_running >= 0)\n",
    "Y = 1.2 * X_above_cutoff + 0.5 * X_running - 2 * W + np.random.normal(0, 1, num)  # true effect is 1.2\n",
    "\n",
    "# Create DataFrame\n",
    "df = pd.DataFrame({'running': X_running, 'above_cutoff': X_above_cutoff, 'Y': Y})\n",
    "\n",
    "df_limited = df[(df.running > -0.1) & (df.running < 0.1)]\n",
    "\n",
    "# Does not get running variable parameter right, but it still helps to control for it!\n",
    "model = smf.ols('Y ~ running + above_cutoff', data=df_limited).fit()\n",
    "print(model.params)"
   ]
  },
  {
   "cell_type": "code",
   "execution_count": 30,
   "id": "e99c137c-dc2a-4b87-bccc-bd4c2e42eb0e",
   "metadata": {},
   "outputs": [
    {
     "name": "stdout",
     "output_type": "stream",
     "text": [
      "Intercept       0.026439\n",
      "above_cutoff    1.145635\n",
      "dtype: float64\n"
     ]
    }
   ],
   "source": [
    "# Without controlling for running variable\n",
    "df2 = pd.DataFrame({'running': X_running, 'above_cutoff': X_above_cutoff, 'Y': Y})\n",
    "\n",
    "df_limited = df[(df.running > -0.1) & (df.running < 0.1)]\n",
    "\n",
    "model = smf.ols('Y ~ above_cutoff', data=df_limited).fit()\n",
    "print(model.params)"
   ]
  },
  {
   "cell_type": "code",
   "execution_count": 39,
   "id": "b25580d8-9596-4e92-b51a-0db0fe983acc",
   "metadata": {},
   "outputs": [
    {
     "data": {
      "text/plain": [
       "(array([ 1.,  2.,  7., 12., 14., 21., 16., 13.,  8.,  6.]),\n",
       " array([1.14104544, 1.1425829 , 1.14412036, 1.14565782, 1.14719528,\n",
       "        1.14873274, 1.15027019, 1.15180765, 1.15334511, 1.15488257,\n",
       "        1.15642003]),\n",
       " <BarContainer object of 10 artists>)"
      ]
     },
     "execution_count": 39,
     "metadata": {},
     "output_type": "execute_result"
    },
    {
     "data": {
      "image/png": "[encoded data removed]",
      "text/plain": [
       "<Figure size 640x480 with 1 Axes>"
      ]
     },
     "metadata": {},
     "output_type": "display_data"
    }
   ],
   "source": [
    "lst = list()\n",
    "for n in range(100):\n",
    "    num = 10000000\n",
    "    # Note: X_above_cutoff and X_running are both the treatment, sort of.\n",
    "    # But X_above_cutoff is the real treatment in that its coefficient is the effect.\n",
    "    W = np.random.uniform(-1, 1, num)\n",
    "    X_running = np.random.uniform(-1, 1, num) + 2 * W\n",
    "    X_above_cutoff = 1 * (X_running >= 0)\n",
    "    Y = 1.2 * X_above_cutoff + 0.5 * X_running - 2 * W + np.random.normal(0, 1, num)  # true effect is 1.2\n",
    "\n",
    "    df2 = pd.DataFrame({'running': X_running, 'above_cutoff': X_above_cutoff, 'Y': Y})\n",
    "    \n",
    "    df_limited2 = df2[(df2.running > -0.1) & (df2.running < 0.1)]\n",
    "    \n",
    "    model = smf.ols('Y ~ above_cutoff', data=df_limited2).fit()\n",
    "    lst.append(model.params.above_cutoff)\n",
    "plt.hist(lst)"
   ]
  },
  {
   "cell_type": "code",
   "execution_count": 19,
   "id": "fb1e7321-8b7b-4429-be3b-5e3038b87a44",
   "metadata": {},
   "outputs": [
    {
     "data": {
      "text/plain": [
       "(array([ 1.,  2.,  7., 12., 14., 21., 16., 13.,  8.,  6.]),\n",
       " array([1.14104544, 1.1425829 , 1.14412036, 1.14565782, 1.14719528,\n",
       "        1.14873274, 1.15027019, 1.15180765, 1.15334511, 1.15488257,\n",
       "        1.15642003]),\n",
       " <BarContainer object of 10 artists>)"
      ]
     },
     "execution_count": 19,
     "metadata": {},
     "output_type": "execute_result"
    },
    {
     "data": {
      "image/png": "[encoded data removed]",
      "text/plain": [
       "<Figure size 640x480 with 1 Axes>"
      ]
     },
     "metadata": {},
     "output_type": "display_data"
    }
   ],
   "source": [
    "plt.hist(lst)"
   ]
  },
  {
   "cell_type": "code",
   "execution_count": null,
   "id": "1c2b3d7a-0726-41a4-8473-b11207f43e07",
   "metadata": {},
   "outputs": [],
   "source": []
  },
  {
   "cell_type": "markdown",
   "id": "a295a1f1",
   "metadata": {},
   "source": [
    "QUIZ WEEK 4 (due in week 5)"
   ]
  },
  {
   "cell_type": "markdown",
   "id": "df72908a",
   "metadata": {},
   "source": [
    "1) Task:\n",
    "\n",
    "Given data about an instrumental variable, find the effect. X is the treatment, W the confounder, Y the outcome, and Z the instrument. Use homework_4.1.csv. \n",
    "\n",
    "Question 1\n",
    "\n",
    "Did you need to know W to do this? "
   ]
  },
  {
   "cell_type": "markdown",
   "id": "899f5825",
   "metadata": {},
   "source": [
    "For instrumental variables, the whole idea is that Z affects Y only through X,\n",
    "and is independent of W (the confounder).\n",
    "That means you don’t need to know W to estimate the causal effect — that’s the point of the instrument.\n",
    "\n",
    "✅ Answer: No, you don’t need to know W if Z is a valid instrument."
   ]
  },
  {
   "cell_type": "code",
   "execution_count": 9,
   "id": "022be8e7",
   "metadata": {},
   "outputs": [
    {
     "data": {
      "text/html": [
       "<div>\n",
       "<style scoped>\n",
       "    .dataframe tbody tr th:only-of-type {\n",
       "        vertical-align: middle;\n",
       "    }\n",
       "\n",
       "    .dataframe tbody tr th {\n",
       "        vertical-align: top;\n",
       "    }\n",
       "\n",
       "    .dataframe thead th {\n",
       "        text-align: right;\n",
       "    }\n",
       "</style>\n",
       "<table border=\"1\" class=\"dataframe\">\n",
       "  <thead>\n",
       "    <tr style=\"text-align: right;\">\n",
       "      <th></th>\n",
       "      <th>Z</th>\n",
       "      <th>W</th>\n",
       "      <th>X</th>\n",
       "      <th>Y</th>\n",
       "    </tr>\n",
       "  </thead>\n",
       "  <tbody>\n",
       "    <tr>\n",
       "      <th>0</th>\n",
       "      <td>0</td>\n",
       "      <td>-0.155644</td>\n",
       "      <td>-0.496971</td>\n",
       "      <td>0.282484</td>\n",
       "    </tr>\n",
       "    <tr>\n",
       "      <th>1</th>\n",
       "      <td>1</td>\n",
       "      <td>0.529539</td>\n",
       "      <td>2.284240</td>\n",
       "      <td>4.740596</td>\n",
       "    </tr>\n",
       "    <tr>\n",
       "      <th>2</th>\n",
       "      <td>1</td>\n",
       "      <td>0.910514</td>\n",
       "      <td>0.872232</td>\n",
       "      <td>3.449569</td>\n",
       "    </tr>\n",
       "    <tr>\n",
       "      <th>3</th>\n",
       "      <td>1</td>\n",
       "      <td>-0.705476</td>\n",
       "      <td>2.157260</td>\n",
       "      <td>3.002531</td>\n",
       "    </tr>\n",
       "    <tr>\n",
       "      <th>4</th>\n",
       "      <td>0</td>\n",
       "      <td>-0.590874</td>\n",
       "      <td>-0.386730</td>\n",
       "      <td>-1.848796</td>\n",
       "    </tr>\n",
       "  </tbody>\n",
       "</table>\n",
       "</div>"
      ],
      "text/plain": [
       "   Z         W         X         Y\n",
       "0  0 -0.155644 -0.496971  0.282484\n",
       "1  1  0.529539  2.284240  4.740596\n",
       "2  1  0.910514  0.872232  3.449569\n",
       "3  1 -0.705476  2.157260  3.002531\n",
       "4  0 -0.590874 -0.386730 -1.848796"
      ]
     },
     "execution_count": 9,
     "metadata": {},
     "output_type": "execute_result"
    }
   ],
   "source": [
    "df1 = pd.read_csv(\"homework_4.1.csv\")\n",
    "df1.head()"
   ]
  },
  {
   "cell_type": "markdown",
   "id": "45cf64aa",
   "metadata": {},
   "source": [
    "\n",
    "Question 2\n",
    "As in the explanation, try averaging the ﻿Y﻿ difference and ﻿X﻿ difference (over ﻿W﻿ and ﻿Z﻿) in two ways: \n",
    "\n",
    "1) Subtract the average ﻿Y﻿ value for ﻿Z equals 1﻿ and ﻿Z equals 0﻿. Subtract the average ﻿X﻿ value for ﻿Z equals 1﻿ and ﻿Z equals 0﻿. Divide the two. \n",
    "\n",
    "2) Find the average ﻿Y﻿ value for ﻿Z equals 1﻿ and ﻿Z equals 0﻿ for a narrow range of ﻿W﻿. Find the average ﻿X﻿ value for ﻿Z equals 1﻿ and ﻿Z equals 0﻿ for the same narrow range of ﻿W﻿. Take the ratio to find the effect. Then average this over all the ranges of ﻿W﻿. \n",
    "\n",
    "\n",
    "For the first item, the effect is closest to: \n",
    "\n",
    "Option A\n",
    "0.5 \n",
    "\n",
    "Option B\n",
    "1\n",
    "\n",
    "Option C\n",
    "2\n",
    "\n",
    "Option D\n",
    "1.5"
   ]
  },
  {
   "cell_type": "code",
   "execution_count": 10,
   "id": "d4e14ee5",
   "metadata": {},
   "outputs": [
    {
     "name": "stdout",
     "output_type": "stream",
     "text": [
      "Simple Wald (IV) effect: 1.5618587073765746\n"
     ]
    }
   ],
   "source": [
    "# Compute means grouped by instrument Z\n",
    "means = df1.groupby(\"Z\")[[\"Y\", \"X\"]].mean()\n",
    "effect_simple = (means.loc[1, \"Y\"] - means.loc[0, \"Y\"]) / (means.loc[1, \"X\"] - means.loc[0, \"X\"])\n",
    "print(\"Simple Wald (IV) effect:\", effect_simple)\n"
   ]
  },
  {
   "cell_type": "code",
   "execution_count": null,
   "id": "ac3c1381",
   "metadata": {},
   "outputs": [
    {
     "name": "stdout",
     "output_type": "stream",
     "text": [
      "Average effect over W bins: 1.508896371522371\n"
     ]
    },
    {
     "name": "stderr",
     "output_type": "stream",
     "text": [
      "/tmp/ipykernel_13511/1710670358.py:5: FutureWarning: The default of observed=False is deprecated and will be changed to True in a future version of pandas. Pass observed=False to retain current behavior or observed=True to adopt the future default and silence this warning.\n",
      "  for w_bin, subset in df1.groupby(\"W_bin\"):\n"
     ]
    }
   ],
   "source": [
    "# Bin W into 10 equal ranges\n",
    "df1[\"W_bin\"] = pd.qcut(df1[\"W\"], q=10, duplicates=\"drop\")\n",
    "\n",
    "effects = []\n",
    "for w_bin, subset in df1.groupby(\"W_bin\"):\n",
    "    means_bin = subset.groupby(\"Z\")[[\"Y\", \"X\"]].mean()\n",
    "    if 0 in means_bin.index and 1 in means_bin.index:\n",
    "        eff = (means_bin.loc[1, \"Y\"] - means_bin.loc[0, \"Y\"]) / (means_bin.loc[1, \"X\"] - means_bin.loc[0, \"X\"])\n",
    "        effects.append(eff)\n",
    "\n",
    "effect_weighted = np.mean(effects)\n",
    "print(\"Average effect over W bins:\", effect_weighted)\n"
   ]
  },
  {
   "cell_type": "markdown",
   "id": "1a0a152b",
   "metadata": {},
   "source": [
    "Task: Given student data involving test scores (﻿X﻿), a cutoff, and an outcome (Y), which measures whether the students got into college (as in the example in the text), determine whether the math course helps students get into college in each dataset. Use datasets homework_4.2.a and homework_4.2.b. \n",
    "\n",
    "\n",
    "Question 3 \n",
    "\n",
    "Is ﻿Y﻿'s slope higher or lower after the cutoff compared with before? \n",
    "Option A Lower \n",
    "Option B Higher"
   ]
  },
  {
   "cell_type": "code",
   "execution_count": 12,
   "id": "b37f99a2",
   "metadata": {},
   "outputs": [],
   "source": [
    "df_a = pd.read_csv(\"homework_4.2.a.csv\")\n",
    "df_b = pd.read_csv(\"homework_4.2.b.csv\")"
   ]
  },
  {
   "cell_type": "code",
   "execution_count": 14,
   "id": "b89aca9f",
   "metadata": {},
   "outputs": [
    {
     "data": {
      "text/html": [
       "<div>\n",
       "<style scoped>\n",
       "    .dataframe tbody tr th:only-of-type {\n",
       "        vertical-align: middle;\n",
       "    }\n",
       "\n",
       "    .dataframe tbody tr th {\n",
       "        vertical-align: top;\n",
       "    }\n",
       "\n",
       "    .dataframe thead th {\n",
       "        text-align: right;\n",
       "    }\n",
       "</style>\n",
       "<table border=\"1\" class=\"dataframe\">\n",
       "  <thead>\n",
       "    <tr style=\"text-align: right;\">\n",
       "      <th></th>\n",
       "      <th>X</th>\n",
       "      <th>Y</th>\n",
       "    </tr>\n",
       "  </thead>\n",
       "  <tbody>\n",
       "    <tr>\n",
       "      <th>0</th>\n",
       "      <td>81.822339</td>\n",
       "      <td>1</td>\n",
       "    </tr>\n",
       "    <tr>\n",
       "      <th>1</th>\n",
       "      <td>92.487870</td>\n",
       "      <td>0</td>\n",
       "    </tr>\n",
       "    <tr>\n",
       "      <th>2</th>\n",
       "      <td>85.372460</td>\n",
       "      <td>0</td>\n",
       "    </tr>\n",
       "    <tr>\n",
       "      <th>3</th>\n",
       "      <td>78.828025</td>\n",
       "      <td>0</td>\n",
       "    </tr>\n",
       "    <tr>\n",
       "      <th>4</th>\n",
       "      <td>75.807080</td>\n",
       "      <td>1</td>\n",
       "    </tr>\n",
       "  </tbody>\n",
       "</table>\n",
       "</div>"
      ],
      "text/plain": [
       "           X  Y\n",
       "0  81.822339  1\n",
       "1  92.487870  0\n",
       "2  85.372460  0\n",
       "3  78.828025  0\n",
       "4  75.807080  1"
      ]
     },
     "execution_count": 14,
     "metadata": {},
     "output_type": "execute_result"
    }
   ],
   "source": [
    "df_a.head()"
   ]
  },
  {
   "cell_type": "code",
   "execution_count": 15,
   "id": "aeb2c98c",
   "metadata": {},
   "outputs": [
    {
     "data": {
      "text/html": [
       "<div>\n",
       "<style scoped>\n",
       "    .dataframe tbody tr th:only-of-type {\n",
       "        vertical-align: middle;\n",
       "    }\n",
       "\n",
       "    .dataframe tbody tr th {\n",
       "        vertical-align: top;\n",
       "    }\n",
       "\n",
       "    .dataframe thead th {\n",
       "        text-align: right;\n",
       "    }\n",
       "</style>\n",
       "<table border=\"1\" class=\"dataframe\">\n",
       "  <thead>\n",
       "    <tr style=\"text-align: right;\">\n",
       "      <th></th>\n",
       "      <th>X2</th>\n",
       "      <th>Y2</th>\n",
       "    </tr>\n",
       "  </thead>\n",
       "  <tbody>\n",
       "    <tr>\n",
       "      <th>0</th>\n",
       "      <td>76.643034</td>\n",
       "      <td>1</td>\n",
       "    </tr>\n",
       "    <tr>\n",
       "      <th>1</th>\n",
       "      <td>87.743397</td>\n",
       "      <td>1</td>\n",
       "    </tr>\n",
       "    <tr>\n",
       "      <th>2</th>\n",
       "      <td>81.639469</td>\n",
       "      <td>1</td>\n",
       "    </tr>\n",
       "    <tr>\n",
       "      <th>3</th>\n",
       "      <td>73.740485</td>\n",
       "      <td>0</td>\n",
       "    </tr>\n",
       "    <tr>\n",
       "      <th>4</th>\n",
       "      <td>90.480268</td>\n",
       "      <td>1</td>\n",
       "    </tr>\n",
       "  </tbody>\n",
       "</table>\n",
       "</div>"
      ],
      "text/plain": [
       "          X2  Y2\n",
       "0  76.643034   1\n",
       "1  87.743397   1\n",
       "2  81.639469   1\n",
       "3  73.740485   0\n",
       "4  90.480268   1"
      ]
     },
     "execution_count": 15,
     "metadata": {},
     "output_type": "execute_result"
    }
   ],
   "source": [
    "df_b.head()"
   ]
  },
  {
   "cell_type": "code",
   "execution_count": 17,
   "id": "049c7879",
   "metadata": {},
   "outputs": [
    {
     "name": "stdout",
     "output_type": "stream",
     "text": [
      "\n",
      "Dataset A Results:\n",
      "const           0.786492\n",
      "X              -0.010341\n",
      "after_cutoff   -0.190749\n",
      "interaction     0.022834\n",
      "dtype: float64\n",
      "Slope before cutoff: -0.0103\n",
      "Slope after cutoff:  0.0125\n",
      "👉 In Dataset A, the slope is HIGHER after the cutoff (Option B).\n"
     ]
    },
    {
     "data": {
      "image/png": "[encoded data removed]",
      "text/plain": [
       "<Figure size 600x400 with 1 Axes>"
      ]
     },
     "metadata": {},
     "output_type": "display_data"
    },
    {
     "name": "stdout",
     "output_type": "stream",
     "text": [
      "\n",
      "Dataset B Results:\n",
      "const          -0.054510\n",
      "X               0.009151\n",
      "after_cutoff   -0.098218\n",
      "interaction     0.006717\n",
      "dtype: float64\n",
      "Slope before cutoff: 0.0092\n",
      "Slope after cutoff:  0.0159\n",
      "👉 In Dataset B, the slope is HIGHER after the cutoff (Option B).\n"
     ]
    },
    {
     "data": {
      "image/png": "[encoded data removed]",
      "text/plain": [
       "<Figure size 600x400 with 1 Axes>"
      ]
     },
     "metadata": {},
     "output_type": "display_data"
    }
   ],
   "source": [
    "\n",
    "\n",
    "# --- Load data ---\n",
    "df_a = pd.read_csv(\"homework_4.2.a.csv\")\n",
    "df_b = pd.read_csv(\"homework_4.2.b.csv\")\n",
    "\n",
    "# Rename df_b columns for consistency\n",
    "df_b = df_b.rename(columns={\"X2\": \"X\", \"Y2\": \"Y\"})\n",
    "\n",
    "# --- Define cutoff ---\n",
    "cutoff = 50\n",
    "\n",
    "# --- Define helper function for regression discontinuity ---\n",
    "def analyze_rdd(df, name):\n",
    "    # Create variables for RDD\n",
    "    df[\"after_cutoff\"] = (df[\"X\"] >= cutoff).astype(int)\n",
    "    df[\"interaction\"] = (df[\"X\"] - cutoff) * df[\"after_cutoff\"]\n",
    "\n",
    "    # Fit linear regression\n",
    "    X = sm.add_constant(df[[\"X\", \"after_cutoff\", \"interaction\"]])\n",
    "    y = df[\"Y\"]\n",
    "    model = sm.OLS(y, X).fit()\n",
    "\n",
    "    # Compute slopes\n",
    "    slope_before = model.params[\"X\"]\n",
    "    slope_after = model.params[\"X\"] + model.params[\"interaction\"]\n",
    "\n",
    "    print(f\"\\n{name} Results:\")\n",
    "    print(model.params)\n",
    "    print(f\"Slope before cutoff: {slope_before:.4f}\")\n",
    "    print(f\"Slope after cutoff:  {slope_after:.4f}\")\n",
    "\n",
    "    if slope_after > slope_before:\n",
    "        print(f\"👉 In {name}, the slope is HIGHER after the cutoff (Option B).\")\n",
    "    else:\n",
    "        print(f\"👉 In {name}, the slope is LOWER after the cutoff (Option A).\")\n",
    "\n",
    "    # Visualization\n",
    "    plt.figure(figsize=(6,4))\n",
    "    plt.scatter(df[\"X\"], df[\"Y\"], alpha=0.4)\n",
    "    plt.axvline(cutoff, color=\"red\", linestyle=\"--\", label=\"Cutoff\")\n",
    "    plt.xlabel(\"Test Score (X)\")\n",
    "    plt.ylabel(\"College Admission (Y)\")\n",
    "    plt.title(f\"{name}: Regression Discontinuity at cutoff = {cutoff}\")\n",
    "    plt.legend()\n",
    "    plt.show()\n",
    "\n",
    "# --- Run for both datasets ---\n",
    "analyze_rdd(df_a, \"Dataset A\")\n",
    "analyze_rdd(df_b, \"Dataset B\")\n"
   ]
  },
  {
   "cell_type": "markdown",
   "id": "21ac701e",
   "metadata": {},
   "source": [
    "4) Given a cutoff score of 80, which dataset seems most likely to involve a nonzero linear term, allowing ﻿Y﻿ to relate linearly to ﻿X﻿ before and after the cutoff? \n",
    "\n",
    "Option A\n",
    "Dataset a (﻿X﻿, ﻿Y﻿)\n",
    "\n",
    "Option B\n",
    "Dataset b (﻿X 2﻿, ﻿Y 2﻿)\n",
    "\n"
   ]
  },
  {
   "cell_type": "code",
   "execution_count": 18,
   "id": "884cd670",
   "metadata": {},
   "outputs": [
    {
     "name": "stdout",
     "output_type": "stream",
     "text": [
      "\n",
      "Dataset A coefficients:\n",
      "const           0.287090\n",
      "X               0.000224\n",
      "after_cutoff    0.295757\n",
      "interaction    -0.000063\n",
      "dtype: float64\n",
      "Slope before: 0.0002, Slope after: 0.0002\n",
      "\n",
      "Dataset B coefficients:\n",
      "const          -0.114992\n",
      "X               0.010217\n",
      "after_cutoff    0.197112\n",
      "interaction    -0.005208\n",
      "dtype: float64\n",
      "Slope before: 0.0102, Slope after: 0.0050\n",
      "\n",
      "✅ Dataset B shows stronger (nonzero) linear relationship — Option B.\n"
     ]
    }
   ],
   "source": [
    "import statsmodels.api as sm\n",
    "\n",
    "cutoff = 80\n",
    "\n",
    "def check_linear_term(df, name):\n",
    "    df[\"after_cutoff\"] = (df[\"X\"] >= cutoff).astype(int)\n",
    "    df[\"interaction\"] = (df[\"X\"] - cutoff) * df[\"after_cutoff\"]\n",
    "\n",
    "    X = sm.add_constant(df[[\"X\", \"after_cutoff\", \"interaction\"]])\n",
    "    y = df[\"Y\"]\n",
    "    model = sm.OLS(y, X).fit()\n",
    "\n",
    "    print(f\"\\n{name} coefficients:\")\n",
    "    print(model.params)\n",
    "\n",
    "    slope_before = model.params[\"X\"]\n",
    "    slope_after = model.params[\"X\"] + model.params[\"interaction\"]\n",
    "    print(f\"Slope before: {slope_before:.4f}, Slope after: {slope_after:.4f}\")\n",
    "\n",
    "    return abs(slope_before) + abs(slope_after)\n",
    "\n",
    "# Run for both\n",
    "score_a = check_linear_term(df_a, \"Dataset A\")\n",
    "score_b = check_linear_term(df_b, \"Dataset B\")\n",
    "\n",
    "if score_a > score_b:\n",
    "    print(\"\\n✅ Dataset A shows stronger (nonzero) linear relationship — Option A.\")\n",
    "else:\n",
    "    print(\"\\n✅ Dataset B shows stronger (nonzero) linear relationship — Option B.\")\n"
   ]
  },
  {
   "cell_type": "markdown",
   "id": "b3db8871",
   "metadata": {},
   "source": [
    "\n",
    "Question 5)\n",
    "\n",
    "In that dataset, is ﻿Y﻿ increasing or decreasing before the cutoff? \n",
    "\n",
    "Option A\n",
    "Increasing\n",
    "\n",
    "Option B\n",
    "Decreasing \n",
    "\n"
   ]
  },
  {
   "cell_type": "markdown",
   "id": "09750a85",
   "metadata": {},
   "source": [
    "INCREASING"
   ]
  },
  {
   "cell_type": "markdown",
   "id": "05fa24a6",
   "metadata": {},
   "source": [
    "Reflection"
   ]
  },
  {
   "cell_type": "code",
   "execution_count": 1,
   "id": "8743d9d2",
   "metadata": {},
   "outputs": [
    {
     "ename": "NameError",
     "evalue": "name 'df' is not defined",
     "output_type": "error",
     "traceback": [
      "\u001b[31m---------------------------------------------------------------------------\u001b[39m",
      "\u001b[31mNameError\u001b[39m                                 Traceback (most recent call last)",
      "\u001b[36mCell\u001b[39m\u001b[36m \u001b[39m\u001b[32mIn[1]\u001b[39m\u001b[32m, line 7\u001b[39m\n\u001b[32m      4\u001b[39m \u001b[38;5;66;03m# Assume df already loaded with columns X, Y, Z, and W\u001b[39;00m\n\u001b[32m      5\u001b[39m \u001b[38;5;66;03m# Let's use W1 as our confounder here (replace if needed)\u001b[39;00m\n\u001b[32m      6\u001b[39m num_bins = \u001b[32m10\u001b[39m  \u001b[38;5;66;03m# number of narrow ranges for W\u001b[39;00m\n\u001b[32m----> \u001b[39m\u001b[32m7\u001b[39m df[\u001b[33m\"\u001b[39m\u001b[33mW_bin\u001b[39m\u001b[33m\"\u001b[39m] = pd.qcut(\u001b[43mdf\u001b[49m[\u001b[33m\"\u001b[39m\u001b[33mW1\u001b[39m\u001b[33m\"\u001b[39m], q=num_bins, duplicates=\u001b[33m\"\u001b[39m\u001b[33mdrop\u001b[39m\u001b[33m\"\u001b[39m)  \u001b[38;5;66;03m# quantile-based bins\u001b[39;00m\n\u001b[32m      9\u001b[39m effects = []\n\u001b[32m     11\u001b[39m \u001b[38;5;28;01mfor\u001b[39;00m w_bin, subset \u001b[38;5;129;01min\u001b[39;00m df.groupby(\u001b[33m\"\u001b[39m\u001b[33mW_bin\u001b[39m\u001b[33m\"\u001b[39m):\n\u001b[32m     12\u001b[39m     \u001b[38;5;66;03m# Compute group means for Z=0 and Z=1 within this W bin\u001b[39;00m\n",
      "\u001b[31mNameError\u001b[39m: name 'df' is not defined"
     ]
    }
   ],
   "source": [
    "import numpy as np\n",
    "import pandas as pd\n",
    "\n",
    "# Assume df already loaded with columns X, Y, Z, and W\n",
    "# Let's use W1 as our confounder here (replace if needed)\n",
    "num_bins = 10  # number of narrow ranges for W\n",
    "df[\"W_bin\"] = pd.qcut(df[\"W1\"], q=num_bins, duplicates=\"drop\")  # quantile-based bins\n",
    "\n",
    "effects = []\n",
    "\n",
    "for w_bin, subset in df.groupby(\"W_bin\"):\n",
    "    # Compute group means for Z=0 and Z=1 within this W bin\n",
    "    means = subset.groupby(\"Z\")[[\"Y\", \"X\"]].mean()\n",
    "    \n",
    "    # Only compute if both Z=0 and Z=1 exist in this bin\n",
    "    if 0 in means.index and 1 in means.index:\n",
    "        local_effect = (means.loc[1, \"Y\"] - means.loc[0, \"Y\"]) / (means.loc[1, \"X\"] - means.loc[0, \"X\"])\n",
    "        effects.append(local_effect)\n",
    "\n",
    "# Average across all bins\n",
    "average_effect = np.mean(effects)\n",
    "\n",
    "print(f\"Average local IV effect across W bins: {average_effect}\")\n"
   ]
  }
 ],
 "metadata": {
  "kernelspec": {
   "display_name": "Python 3",
   "language": "python",
   "name": "python3"
  },
  "language_info": {
   "codemirror_mode": {
    "name": "ipython",
    "version": 3
   },
   "file_extension": ".py",
   "mimetype": "text/x-python",
   "name": "python",
   "nbconvert_exporter": "python",
   "pygments_lexer": "ipython3",
   "version": "3.12.1"
  }
 },
 "nbformat": 4,
 "nbformat_minor": 5
}
